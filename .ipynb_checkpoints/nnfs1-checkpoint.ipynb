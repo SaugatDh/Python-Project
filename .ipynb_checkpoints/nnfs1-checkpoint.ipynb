{
 "cells": [
  {
   "cell_type": "code",
   "id": "initial_id",
   "metadata": {
    "collapsed": true,
    "ExecuteTime": {
     "end_time": "2025-09-16T09:35:20.100119Z",
     "start_time": "2025-09-16T09:35:20.095935Z"
    }
   },
   "source": [
    "inputs = [1.2,5.1,2.1]\n",
    "weights = [3.1,2.1,1.2]\n",
    "\n",
    "bias = 3\n",
    "output = inputs[0]*weights[0]+inputs[1]*weights[1]+inputs[2]*weights[2]+bias # Neural Network\n",
    "\n",
    "print(output)"
   ],
   "outputs": [
    {
     "name": "stdout",
     "output_type": "stream",
     "text": [
      "19.95\n"
     ]
    }
   ],
   "execution_count": 2
  },
  {
   "metadata": {
    "ExecuteTime": {
     "end_time": "2025-09-16T09:35:20.169283Z",
     "start_time": "2025-09-16T09:35:20.163831Z"
    }
   },
   "cell_type": "code",
   "source": [
    "inputs = [1,2,3,2.5]\n",
    "weights1 = [0.2,0.8,-0.5,1.0]\n",
    "weights2 = [0.5,-0.91,0.26,-0.5]\n",
    "weights3 = [0.26,-0.27,0.17,0.87]\n",
    "\n",
    "bias1=2\n",
    "bias2=3\n",
    "bias3=0.5\n",
    "\n",
    "output = [inputs[0]*weights1[0]+inputs[1]*weights1[1]+inputs[2]*weights1[2]+inputs[3]*weights1[3]+bias1,\n",
    "          inputs[0]*weights2[0]+inputs[1]*weights2[1]+inputs[2]*weights2[2]+inputs[3]*weights2[3]+bias2,\n",
    "          inputs[0]*weights3[0]+inputs[1]*weights3[1]+inputs[2]*weights3[2]+inputs[3]*weights3[3]+bias3]\n",
    "print(output)"
   ],
   "id": "1b6e1da46b0c8ba1",
   "outputs": [
    {
     "name": "stdout",
     "output_type": "stream",
     "text": [
      "[4.8, 1.21, 2.905]\n"
     ]
    }
   ],
   "execution_count": 3
  },
  {
   "metadata": {
    "ExecuteTime": {
     "end_time": "2025-09-16T09:35:20.307152Z",
     "start_time": "2025-09-16T09:35:20.217292Z"
    }
   },
   "cell_type": "code",
   "source": "import numpy as np\n",
   "id": "51c43d2d7016f120",
   "outputs": [],
   "execution_count": 4
  },
  {
   "metadata": {
    "ExecuteTime": {
     "end_time": "2025-09-16T09:35:20.337763Z",
     "start_time": "2025-09-16T09:35:20.334094Z"
    }
   },
   "cell_type": "code",
   "source": [
    "inputs = np.array([1,2,3,2.5])\n",
    "weights = np.array([\n",
    "    [0.2,0.8,-0.5,1.0],\n",
    "    [0.5,-0.91,0.26,-0.5],\n",
    "    [0.26,-0.27,0.17,0.87]\n",
    "])\n",
    "\n",
    "biases = np.array([2,3,0.5])\n",
    "\n",
    "op = np.dot(inputs,weights.T) + biases"
   ],
   "id": "ddb7dcaf679ce905",
   "outputs": [],
   "execution_count": 5
  },
  {
   "metadata": {
    "ExecuteTime": {
     "end_time": "2025-09-16T09:35:20.389329Z",
     "start_time": "2025-09-16T09:35:20.385984Z"
    }
   },
   "cell_type": "code",
   "source": "print(op)",
   "id": "59cbae11f6dece7e",
   "outputs": [
    {
     "name": "stdout",
     "output_type": "stream",
     "text": [
      "[4.8   1.21  2.905]\n"
     ]
    }
   ],
   "execution_count": 6
  },
  {
   "metadata": {
    "ExecuteTime": {
     "end_time": "2025-09-16T09:35:20.443552Z",
     "start_time": "2025-09-16T09:35:20.438944Z"
    }
   },
   "cell_type": "code",
   "source": [
    "inputs = [1,2,3,2.5]\n",
    "weights = [\n",
    "    [0.2,0.8,-0.5,1.0],\n",
    "    [0.5,-0.91,0.26,-0.5],\n",
    "    [0.26,-0.27,0.17,0.87]\n",
    "]\n",
    "\n",
    "biases = [2,3,0.5]\n",
    "\n",
    "layer_outputs = []\n",
    "for neuron_weights,neuron_bias in zip(weights,biases):\n",
    "    neuron_output = 0\n",
    "    for n_input,weight in zip(inputs,neuron_weights):\n",
    "        neuron_output += n_input*weight\n",
    "    neuron_output= neuron_bias + neuron_output\n",
    "    layer_outputs.append(neuron_output)\n",
    "\n",
    "print(layer_outputs)"
   ],
   "id": "5a35fb7f05dd896d",
   "outputs": [
    {
     "name": "stdout",
     "output_type": "stream",
     "text": [
      "[4.8, 1.21, 2.905]\n"
     ]
    }
   ],
   "execution_count": 7
  },
  {
   "metadata": {
    "ExecuteTime": {
     "end_time": "2025-09-16T09:35:20.493445Z",
     "start_time": "2025-09-16T09:35:20.491340Z"
    }
   },
   "cell_type": "code",
   "source": "import math",
   "id": "c963f507fea53e5c",
   "outputs": [],
   "execution_count": 8
  },
  {
   "metadata": {
    "ExecuteTime": {
     "end_time": "2025-09-16T09:35:20.549461Z",
     "start_time": "2025-09-16T09:35:20.542899Z"
    }
   },
   "cell_type": "code",
   "source": [
    "inputs = [\n",
    "    [0,0],\n",
    "    [0,1],\n",
    "    [1,0],\n",
    "    [1,1]\n",
    "]\n",
    "\n",
    "def sigmoid(x):\n",
    "    return 1/(1+math.exp(-x))\n",
    "\n",
    "for x in inputs:\n",
    "    h1 = sigmoid(x[0]*20+x[1]*20+ -10)\n",
    "    h2 = sigmoid(x[0]*-20+x[1]*-20+30)\n",
    "\n",
    "    output = sigmoid(h1*20+h2*20+ -30)\n",
    "    print(round(output))\n"
   ],
   "id": "f3fbb493dcc1892a",
   "outputs": [
    {
     "name": "stdout",
     "output_type": "stream",
     "text": [
      "0\n",
      "1\n",
      "1\n",
      "0\n"
     ]
    }
   ],
   "execution_count": 9
  },
  {
   "metadata": {
    "ExecuteTime": {
     "end_time": "2025-09-16T09:35:20.614477Z",
     "start_time": "2025-09-16T09:35:20.609627Z"
    }
   },
   "cell_type": "code",
   "source": [
    "import math\n",
    "inputs = [(0,0), (0,1), (1,0), (1,1)]\n",
    "def sigmoid(x):\n",
    "    return 1/(1+math.exp(-x))\n",
    "\n",
    "def AND(x1,x2):\n",
    "    return round(sigmoid(20*x1+20*x2-30))\n",
    "def OR(x1,x2):\n",
    "    return NAND(NAND(x1,x1),NAND(x2,x2))\n",
    "def NOT(x1):\n",
    "    return NAND(x1,x1)\n",
    "def NAND(x1,x2):\n",
    "    return round(sigmoid(-20*x1+-20*x2+30))\n",
    "def NOR(x1,x2):\n",
    "    return round(sigmoid(-20*x1-20*x2+10))\n",
    "def XOR(x1,x2):\n",
    "    return NAND(NAND(x1,NAND(x1,x2)),NAND(x2,NAND(x1,x2)))\n",
    "def XNOR(x1,x2):\n",
    "    return NOR(NOR(x1,NOR(x1,x2)),NOR(x2,NOR(x1,x2)))"
   ],
   "id": "428fd69cf929a564",
   "outputs": [],
   "execution_count": 10
  },
  {
   "metadata": {
    "ExecuteTime": {
     "end_time": "2025-09-16T09:35:21.092774Z",
     "start_time": "2025-09-16T09:35:20.667741Z"
    }
   },
   "cell_type": "code",
   "source": [
    "import numpy as np\n",
    "import matplotlib.pyplot as plt\n",
    "\n",
    "# Fixing the code\n",
    "inputs = np.array([\n",
    "    [1, 2, 3,2.5],\n",
    "    [2.0, 5.0, -1.0,2.0],\n",
    "    [-1.5, 2.7, 3.3,-0.8]\n",
    "])\n",
    "\n",
    "weights1 = np.array([\n",
    "    [0.2, 0.8, -0.5,1.0],\n",
    "    [0.5, -0.91, 0.26,-0.5],\n",
    "    [-0.26, -0.27, 0.17,0.87]\n",
    "])\n",
    "weights2 = np.array([\n",
    "    [0.2, 0.8, -0.5],\n",
    "    [0.5, -0.91, 0.26],\n",
    "    [-0.26, -0.27, 0.17]\n",
    "])\n",
    "\n",
    "biases1 = np.array([2, 3, 0.5])\n",
    "biases2 = np.array([2, 3, 0.5])\n",
    "\n",
    "layer1 = np.dot(inputs,weights1.T) + biases1\n",
    "layer2 = np.dot(layer1,weights2.T) + biases2\n",
    "print(\"Output:\")\n",
    "print(layer2)"
   ],
   "id": "37103fe50bed055c",
   "outputs": [
    {
     "name": "stdout",
     "output_type": "stream",
     "text": [
      "Output:\n",
      "[[ 2.7355   4.919   -0.66925]\n",
      " [ 2.232    9.1491  -1.2913 ]\n",
      " [ 3.1098   2.75535 -0.14595]]\n"
     ]
    }
   ],
   "execution_count": 11
  },
  {
   "metadata": {
    "ExecuteTime": {
     "end_time": "2025-09-16T09:49:24.315743Z",
     "start_time": "2025-09-16T09:49:24.310449Z"
    }
   },
   "cell_type": "code",
   "source": [
    "np.random.seed(0)\n",
    "X = np.array([\n",
    "    [1, 2, 3,2.5],\n",
    "    [2.0, 5.0, -1.0,2.0],\n",
    "    [-1.5, 2.7, 3.3,-0.8]\n",
    "])\n",
    "\n",
    "class Layer_Dense:\n",
    "    def __init__(self,n_inputs,n_neurons):\n",
    "        self.weights = 0.10*np.random.randn(n_inputs,n_neurons)\n",
    "        self.biases = np.zeros((1,n_neurons))\n",
    "    def forward(self,inputs):\n",
    "        self.output = np.dot(inputs,self.weights)+self.biases\n",
    "layer1 = Layer_Dense(4,5)\n",
    "layer2 = Layer_Dense(5,2)\n",
    "\n",
    "layer1.forward(X)\n",
    "# print(layer1.output)\n",
    "\n",
    "layer2.forward(layer1.output)\n",
    "print(layer2.output)"
   ],
   "id": "d0b9bac927a1617e",
   "outputs": [
    {
     "name": "stdout",
     "output_type": "stream",
     "text": [
      "[[ 0.148296   -0.08397602]\n",
      " [ 0.14100315 -0.01340469]\n",
      " [ 0.20124979 -0.07290616]]\n"
     ]
    }
   ],
   "execution_count": 26
  },
  {
   "metadata": {},
   "cell_type": "code",
   "outputs": [],
   "execution_count": null,
   "source": "",
   "id": "7fd1fcb41aa6ff14"
  }
 ],
 "metadata": {
  "kernelspec": {
   "display_name": "Python 3",
   "language": "python",
   "name": "python3"
  },
  "language_info": {
   "codemirror_mode": {
    "name": "ipython",
    "version": 2
   },
   "file_extension": ".py",
   "mimetype": "text/x-python",
   "name": "python",
   "nbconvert_exporter": "python",
   "pygments_lexer": "ipython2",
   "version": "2.7.6"
  }
 },
 "nbformat": 4,
 "nbformat_minor": 5
}
