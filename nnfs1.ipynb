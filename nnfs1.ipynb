{
 "cells": [
  {
   "cell_type": "code",
   "execution_count": 2,
   "id": "initial_id",
   "metadata": {
    "ExecuteTime": {
     "end_time": "2025-09-16T09:35:20.100119Z",
     "start_time": "2025-09-16T09:35:20.095935Z"
    },
    "collapsed": true,
    "jupyter": {
     "outputs_hidden": true
    }
   },
   "outputs": [
    {
     "name": "stdout",
     "output_type": "stream",
     "text": [
      "19.95\n"
     ]
    }
   ],
   "source": [
    "inputs = [1.2,5.1,2.1]\n",
    "weights = [3.1,2.1,1.2]\n",
    "\n",
    "bias = 3\n",
    "output = inputs[0]*weights[0]+inputs[1]*weights[1]+inputs[2]*weights[2]+bias # Neural Network\n",
    "\n",
    "print(output)"
   ]
  },
  {
   "cell_type": "code",
   "execution_count": 3,
   "id": "1b6e1da46b0c8ba1",
   "metadata": {
    "ExecuteTime": {
     "end_time": "2025-09-16T09:35:20.169283Z",
     "start_time": "2025-09-16T09:35:20.163831Z"
    }
   },
   "outputs": [
    {
     "name": "stdout",
     "output_type": "stream",
     "text": [
      "[4.8, 1.21, 2.905]\n"
     ]
    }
   ],
   "source": [
    "inputs = [1,2,3,2.5]\n",
    "weights1 = [0.2,0.8,-0.5,1.0]\n",
    "weights2 = [0.5,-0.91,0.26,-0.5]\n",
    "weights3 = [0.26,-0.27,0.17,0.87]\n",
    "\n",
    "bias1=2\n",
    "bias2=3\n",
    "bias3=0.5\n",
    "\n",
    "output = [inputs[0]*weights1[0]+inputs[1]*weights1[1]+inputs[2]*weights1[2]+inputs[3]*weights1[3]+bias1,\n",
    "          inputs[0]*weights2[0]+inputs[1]*weights2[1]+inputs[2]*weights2[2]+inputs[3]*weights2[3]+bias2,\n",
    "          inputs[0]*weights3[0]+inputs[1]*weights3[1]+inputs[2]*weights3[2]+inputs[3]*weights3[3]+bias3]\n",
    "print(output)"
   ]
  },
  {
   "cell_type": "code",
   "execution_count": 4,
   "id": "51c43d2d7016f120",
   "metadata": {
    "ExecuteTime": {
     "end_time": "2025-09-16T09:35:20.307152Z",
     "start_time": "2025-09-16T09:35:20.217292Z"
    }
   },
   "outputs": [],
   "source": [
    "import numpy as np\n"
   ]
  },
  {
   "cell_type": "code",
   "execution_count": 5,
   "id": "ddb7dcaf679ce905",
   "metadata": {
    "ExecuteTime": {
     "end_time": "2025-09-16T09:35:20.337763Z",
     "start_time": "2025-09-16T09:35:20.334094Z"
    }
   },
   "outputs": [],
   "source": [
    "inputs = np.array([1,2,3,2.5])\n",
    "weights = np.array([\n",
    "    [0.2,0.8,-0.5,1.0],\n",
    "    [0.5,-0.91,0.26,-0.5],\n",
    "    [0.26,-0.27,0.17,0.87]\n",
    "])\n",
    "\n",
    "biases = np.array([2,3,0.5])\n",
    "\n",
    "op = np.dot(inputs,weights.T) + biases"
   ]
  },
  {
   "cell_type": "code",
   "execution_count": 6,
   "id": "59cbae11f6dece7e",
   "metadata": {
    "ExecuteTime": {
     "end_time": "2025-09-16T09:35:20.389329Z",
     "start_time": "2025-09-16T09:35:20.385984Z"
    }
   },
   "outputs": [
    {
     "name": "stdout",
     "output_type": "stream",
     "text": [
      "[4.8   1.21  2.905]\n"
     ]
    }
   ],
   "source": [
    "print(op)"
   ]
  },
  {
   "cell_type": "code",
   "execution_count": 7,
   "id": "5a35fb7f05dd896d",
   "metadata": {
    "ExecuteTime": {
     "end_time": "2025-09-16T09:35:20.443552Z",
     "start_time": "2025-09-16T09:35:20.438944Z"
    }
   },
   "outputs": [
    {
     "name": "stdout",
     "output_type": "stream",
     "text": [
      "[4.8, 1.21, 2.905]\n"
     ]
    }
   ],
   "source": [
    "inputs = [1,2,3,2.5]\n",
    "weights = [\n",
    "    [0.2,0.8,-0.5,1.0],\n",
    "    [0.5,-0.91,0.26,-0.5],\n",
    "    [0.26,-0.27,0.17,0.87]\n",
    "]\n",
    "\n",
    "biases = [2,3,0.5]\n",
    "\n",
    "layer_outputs = []\n",
    "for neuron_weights,neuron_bias in zip(weights,biases):\n",
    "    neuron_output = 0\n",
    "    for n_input,weight in zip(inputs,neuron_weights):\n",
    "        neuron_output += n_input*weight\n",
    "    neuron_output= neuron_bias + neuron_output\n",
    "    layer_outputs.append(neuron_output)\n",
    "\n",
    "print(layer_outputs)"
   ]
  },
  {
   "cell_type": "code",
   "execution_count": 8,
   "id": "c963f507fea53e5c",
   "metadata": {
    "ExecuteTime": {
     "end_time": "2025-09-16T09:35:20.493445Z",
     "start_time": "2025-09-16T09:35:20.491340Z"
    }
   },
   "outputs": [],
   "source": [
    "import math"
   ]
  },
  {
   "cell_type": "code",
   "execution_count": 9,
   "id": "f3fbb493dcc1892a",
   "metadata": {
    "ExecuteTime": {
     "end_time": "2025-09-16T09:35:20.549461Z",
     "start_time": "2025-09-16T09:35:20.542899Z"
    }
   },
   "outputs": [
    {
     "name": "stdout",
     "output_type": "stream",
     "text": [
      "0\n",
      "1\n",
      "1\n",
      "0\n"
     ]
    }
   ],
   "source": [
    "inputs = [\n",
    "    [0,0],\n",
    "    [0,1],\n",
    "    [1,0],\n",
    "    [1,1]\n",
    "]\n",
    "\n",
    "def sigmoid(x):\n",
    "    return 1/(1+math.exp(-x))\n",
    "\n",
    "for x in inputs:\n",
    "    h1 = sigmoid(x[0]*20+x[1]*20+ -10)\n",
    "    h2 = sigmoid(x[0]*-20+x[1]*-20+30)\n",
    "\n",
    "    output = sigmoid(h1*20+h2*20+ -30)\n",
    "    print(round(output))\n"
   ]
  },
  {
   "cell_type": "code",
   "execution_count": 10,
   "id": "428fd69cf929a564",
   "metadata": {
    "ExecuteTime": {
     "end_time": "2025-09-16T09:35:20.614477Z",
     "start_time": "2025-09-16T09:35:20.609627Z"
    }
   },
   "outputs": [],
   "source": [
    "import math\n",
    "inputs = [(0,0), (0,1), (1,0), (1,1)]\n",
    "def sigmoid(x):\n",
    "    return 1/(1+math.exp(-x))\n",
    "\n",
    "def AND(x1,x2):\n",
    "    return round(sigmoid(20*x1+20*x2-30))\n",
    "def OR(x1,x2):\n",
    "    return NAND(NAND(x1,x1),NAND(x2,x2))\n",
    "def NOT(x1):\n",
    "    return NAND(x1,x1)\n",
    "def NAND(x1,x2):\n",
    "    return round(sigmoid(-20*x1+-20*x2+30))\n",
    "def NOR(x1,x2):\n",
    "    return round(sigmoid(-20*x1-20*x2+10))\n",
    "def XOR(x1,x2):\n",
    "    return NAND(NAND(x1,NAND(x1,x2)),NAND(x2,NAND(x1,x2)))\n",
    "def XNOR(x1,x2):\n",
    "    return NOR(NOR(x1,NOR(x1,x2)),NOR(x2,NOR(x1,x2)))"
   ]
  },
  {
   "cell_type": "code",
   "execution_count": 11,
   "id": "37103fe50bed055c",
   "metadata": {
    "ExecuteTime": {
     "end_time": "2025-09-16T09:35:21.092774Z",
     "start_time": "2025-09-16T09:35:20.667741Z"
    }
   },
   "outputs": [
    {
     "name": "stdout",
     "output_type": "stream",
     "text": [
      "Output:\n",
      "[[ 2.7355   4.919   -0.66925]\n",
      " [ 2.232    9.1491  -1.2913 ]\n",
      " [ 3.1098   2.75535 -0.14595]]\n"
     ]
    }
   ],
   "source": [
    "import numpy as np\n",
    "import matplotlib.pyplot as plt\n",
    "\n",
    "# Fixing the code\n",
    "inputs = np.array([\n",
    "    [1, 2, 3,2.5],\n",
    "    [2.0, 5.0, -1.0,2.0],\n",
    "    [-1.5, 2.7, 3.3,-0.8]\n",
    "])\n",
    "\n",
    "weights1 = np.array([\n",
    "    [0.2, 0.8, -0.5,1.0],\n",
    "    [0.5, -0.91, 0.26,-0.5],\n",
    "    [-0.26, -0.27, 0.17,0.87]\n",
    "])\n",
    "weights2 = np.array([\n",
    "    [0.2, 0.8, -0.5],\n",
    "    [0.5, -0.91, 0.26],\n",
    "    [-0.26, -0.27, 0.17]\n",
    "])\n",
    "\n",
    "biases1 = np.array([2, 3, 0.5])\n",
    "biases2 = np.array([2, 3, 0.5])\n",
    "\n",
    "layer1 = np.dot(inputs,weights1.T) + biases1\n",
    "layer2 = np.dot(layer1,weights2.T) + biases2\n",
    "print(\"Output:\")\n",
    "print(layer2)"
   ]
  },
  {
   "cell_type": "code",
   "execution_count": 26,
   "id": "d0b9bac927a1617e",
   "metadata": {
    "ExecuteTime": {
     "end_time": "2025-09-16T09:49:24.315743Z",
     "start_time": "2025-09-16T09:49:24.310449Z"
    }
   },
   "outputs": [
    {
     "name": "stdout",
     "output_type": "stream",
     "text": [
      "[[ 0.148296   -0.08397602]\n",
      " [ 0.14100315 -0.01340469]\n",
      " [ 0.20124979 -0.07290616]]\n"
     ]
    }
   ],
   "source": [
    "np.random.seed(0)\n",
    "X = np.array([\n",
    "    [1, 2, 3,2.5],\n",
    "    [2.0, 5.0, -1.0,2.0],\n",
    "    [-1.5, 2.7, 3.3,-0.8]\n",
    "])\n",
    "\n",
    "class Layer_Dense:\n",
    "    def __init__(self,n_inputs,n_neurons):\n",
    "        self.weights = 0.10*np.random.randn(n_inputs,n_neurons)\n",
    "        self.biases = np.zeros((1,n_neurons))\n",
    "    def forward(self,inputs):\n",
    "        self.output = np.dot(inputs,self.weights)+self.biases\n",
    "layer1 = Layer_Dense(4,5)\n",
    "layer2 = Layer_Dense(5,2)\n",
    "\n",
    "layer1.forward(X)\n",
    "# print(layer1.output)\n",
    "\n",
    "layer2.forward(layer1.output)\n",
    "print(layer2.output)"
   ]
  },
  {
   "cell_type": "code",
   "execution_count": 2,
   "id": "ca2484cf",
   "metadata": {},
   "outputs": [
    {
     "name": "stdout",
     "output_type": "stream",
     "text": [
      "Collecting nnfs\n",
      "  Downloading nnfs-0.5.1-py3-none-any.whl.metadata (1.7 kB)\n",
      "Requirement already satisfied: numpy in ./.venv/lib/python3.12/site-packages (from nnfs) (2.3.2)\n",
      "Downloading nnfs-0.5.1-py3-none-any.whl (9.1 kB)\n",
      "Installing collected packages: nnfs\n",
      "Successfully installed nnfs-0.5.1\n",
      "\n",
      "\u001b[1m[\u001b[0m\u001b[34;49mnotice\u001b[0m\u001b[1;39;49m]\u001b[0m\u001b[39;49m A new release of pip is available: \u001b[0m\u001b[31;49m24.3.1\u001b[0m\u001b[39;49m -> \u001b[0m\u001b[32;49m25.2\u001b[0m\n",
      "\u001b[1m[\u001b[0m\u001b[34;49mnotice\u001b[0m\u001b[1;39;49m]\u001b[0m\u001b[39;49m To update, run: \u001b[0m\u001b[32;49mpip install --upgrade pip\u001b[0m\n",
      "Note: you may need to restart the kernel to use updated packages.\n"
     ]
    }
   ],
   "source": [
    "%pip install nnfs"
   ]
  },
  {
   "cell_type": "code",
   "execution_count": 18,
   "id": "7fd1fcb41aa6ff14",
   "metadata": {},
   "outputs": [],
   "source": [
    "import numpy as np \n",
    "import nnfs\n",
    "from nnfs.datasets import spiral_data  # See for code: https://gist.github.com/Sentdex/454cb20ec5acf0e76ee8ab8448e6266c\n",
    "\n",
    "nnfs.init()\n",
    "\n",
    "X, y = spiral_data(100, 3)   \n",
    "\n",
    "\n",
    "class Layer_Dense:\n",
    "    def __init__(self, n_inputs, n_neurons):\n",
    "        self.weights = 0.10 * np.random.randn(n_inputs, n_neurons)\n",
    "        self.biases = np.zeros((1, n_neurons))\n",
    "    def forward(self, inputs):\n",
    "        self.output = np.dot(inputs, self.weights) + self.biases"
   ]
  },
  {
   "cell_type": "code",
   "execution_count": 4,
   "id": "35cc09d8",
   "metadata": {},
   "outputs": [],
   "source": [
    "class Activation_ReLU:\n",
    "    def forward(self,inputs):\n",
    "        self.output = np.maximum(0,inputs)"
   ]
  },
  {
   "cell_type": "code",
   "execution_count": 5,
   "id": "1837972e",
   "metadata": {},
   "outputs": [],
   "source": [
    "layer1 = Layer_Dense(2,5)\n",
    "activation = Activation_ReLU()"
   ]
  },
  {
   "cell_type": "code",
   "execution_count": 6,
   "id": "617bd9a4",
   "metadata": {},
   "outputs": [],
   "source": [
    "layer1.forward(X)"
   ]
  },
  {
   "cell_type": "code",
   "execution_count": 7,
   "id": "016b1142",
   "metadata": {},
   "outputs": [],
   "source": [
    "activation.forward(layer1.output)"
   ]
  },
  {
   "cell_type": "code",
   "execution_count": 8,
   "id": "fccb4986",
   "metadata": {},
   "outputs": [
    {
     "name": "stdout",
     "output_type": "stream",
     "text": [
      "[[0.00000000e+00 0.00000000e+00 0.00000000e+00 0.00000000e+00\n",
      "  0.00000000e+00]\n",
      " [0.00000000e+00 0.00000000e+00 0.00000000e+00 4.65504505e-04\n",
      "  4.56846210e-05]\n",
      " [0.00000000e+00 5.93469958e-05 0.00000000e+00 2.03573116e-04\n",
      "  6.10024377e-04]\n",
      " ...\n",
      " [1.13291524e-01 0.00000000e+00 0.00000000e+00 8.11079666e-02\n",
      "  0.00000000e+00]\n",
      " [1.34588361e-01 0.00000000e+00 3.09493970e-02 5.66337556e-02\n",
      "  0.00000000e+00]\n",
      " [1.07817926e-01 0.00000000e+00 0.00000000e+00 8.72561932e-02\n",
      "  0.00000000e+00]]\n"
     ]
    }
   ],
   "source": [
    "print(activation.output)"
   ]
  },
  {
   "cell_type": "code",
   "execution_count": 9,
   "id": "118c4c9f",
   "metadata": {},
   "outputs": [
    {
     "data": {
      "image/png": "[encoded data removed]",
      "text/plain": [
       "<Figure size 1000x800 with 1 Axes>"
      ]
     },
     "metadata": {},
     "output_type": "display_data"
    },
    {
     "name": "stdout",
     "output_type": "stream",
     "text": [
      "Dataset shape: (300, 2)\n",
      "Number of classes: 3\n",
      "Points per class: 100\n",
      "Class distribution: [100 100 100]\n",
      "X range: [-0.979, 0.969]\n",
      "Y range: [-0.933, 0.939]\n",
      "\n",
      "First 5 samples:\n",
      "X: [0. 0.], y: 0\n",
      "X: [0.00299556 0.00964661], y: 0\n",
      "X: [0.01288097 0.01556285], y: 0\n",
      "X: [0.02997479 0.0044481 ], y: 0\n",
      "X: [0.03931246 0.00932828], y: 0\n"
     ]
    }
   ],
   "source": [
    "import numpy as np\n",
    "import matplotlib.pyplot as plt\n",
    "from nnfs.datasets import spiral_data\n",
    "import nnfs\n",
    "\n",
    "# Initialize Neural Networks from Scratch settings\n",
    "nnfs.init()\n",
    "\n",
    "# Generate spiral data\n",
    "X, y = spiral_data(100, 3)\n",
    "\n",
    "# Visualize the data\n",
    "plt.figure(figsize=(10, 8))\n",
    "colors = ['red', 'blue', 'green', 'purple', 'orange', 'brown']\n",
    "\n",
    "for class_idx in range(3):\n",
    "    # Get points for this class\n",
    "    class_points = X[y == class_idx]\n",
    "    plt.scatter(class_points[:, 0], class_points[:, 1], \n",
    "                color=colors[class_idx], \n",
    "                label=f'Class {class_idx}',\n",
    "                alpha=0.7,\n",
    "                s=30)\n",
    "\n",
    "plt.title('Spiral Data from nnfs.datasets')\n",
    "plt.xlabel('X coordinate')\n",
    "plt.ylabel('Y coordinate')\n",
    "plt.legend()\n",
    "plt.grid(True, alpha=0.3)\n",
    "plt.axis('equal')  # Keep aspect ratio equal\n",
    "plt.show()\n",
    "\n",
    "# Print some information about the dataset\n",
    "print(f\"Dataset shape: {X.shape}\")\n",
    "print(f\"Number of classes: {3}\")\n",
    "print(f\"Points per class: {100}\")\n",
    "print(f\"Class distribution: {np.bincount(y)}\")\n",
    "print(f\"X range: [{X[:, 0].min():.3f}, {X[:, 0].max():.3f}]\")\n",
    "print(f\"Y range: [{X[:, 1].min():.3f}, {X[:, 1].max():.3f}]\")\n",
    "\n",
    "# Show first few samples\n",
    "print(\"\\nFirst 5 samples:\")\n",
    "for i in range(5):\n",
    "    print(f\"X: {X[i]}, y: {y[i]}\")"
   ]
  },
  {
   "cell_type": "code",
   "execution_count": 1,
   "id": "2e20fa9c",
   "metadata": {},
   "outputs": [
    {
     "name": "stdout",
     "output_type": "stream",
     "text": [
      "Requirement already satisfied: nnfs in ./.venv/lib/python3.12/site-packages (0.5.1)\n",
      "Requirement already satisfied: numpy in ./.venv/lib/python3.12/site-packages (from nnfs) (2.3.2)\n",
      "\n",
      "\u001b[1m[\u001b[0m\u001b[34;49mnotice\u001b[0m\u001b[1;39;49m]\u001b[0m\u001b[39;49m A new release of pip is available: \u001b[0m\u001b[31;49m24.3.1\u001b[0m\u001b[39;49m -> \u001b[0m\u001b[32;49m25.2\u001b[0m\n",
      "\u001b[1m[\u001b[0m\u001b[34;49mnotice\u001b[0m\u001b[1;39;49m]\u001b[0m\u001b[39;49m To update, run: \u001b[0m\u001b[32;49mpip install --upgrade pip\u001b[0m\n",
      "Note: you may need to restart the kernel to use updated packages.\n"
     ]
    }
   ],
   "source": [
    "%pip install nnfs\n"
   ]
  },
  {
   "cell_type": "code",
   "execution_count": 10,
   "id": "9c9a361e",
   "metadata": {},
   "outputs": [
    {
     "data": {
      "text/plain": [
       "array([[8.95282664e-01, 2.47083068e-02, 8.00090293e-02],\n",
       "       [9.99811129e-01, 2.23163963e-05, 1.66554348e-04],\n",
       "       [5.13097164e-01, 3.58333899e-01, 1.28568936e-01]])"
      ]
     },
     "execution_count": 10,
     "metadata": {},
     "output_type": "execute_result"
    }
   ],
   "source": [
    "import numpy as np \n",
    "import nnfs\n",
    "\n",
    "nnfs.init()\n",
    "\n",
    "layer_outputs = [[4.8, 1.21, 2.385],\n",
    "                 [8.9, -1.81, 0.2],\n",
    "                 [1.41, 1.051, 0.026]]\n",
    "\n",
    "exp_values = np.exp(layer_outputs)\n",
    "\n",
    "norm_values = exp_values / np.sum(exp_values,axis=1,keepdims=True)\n",
    "norm_values"
   ]
  },
  {
   "cell_type": "code",
   "execution_count": 17,
   "id": "2d3f9f68",
   "metadata": {},
   "outputs": [
    {
     "data": {
      "text/plain": [
       "array([[8.395],\n",
       "       [7.29 ],\n",
       "       [2.487]])"
      ]
     },
     "execution_count": 17,
     "metadata": {},
     "output_type": "execute_result"
    }
   ],
   "source": [
    "X= np.sum(layer_outputs,axis=1,keepdims=True)\n",
    "X"
   ]
  },
  {
   "cell_type": "code",
   "execution_count": null,
   "id": "8e47f79e",
   "metadata": {},
   "outputs": [],
   "source": []
  }
 ],
 "metadata": {
  "kernelspec": {
   "display_name": ".venv",
   "language": "python",
   "name": "python3"
  },
  "language_info": {
   "codemirror_mode": {
    "name": "ipython",
    "version": 3
   },
   "file_extension": ".py",
   "mimetype": "text/x-python",
   "name": "python",
   "nbconvert_exporter": "python",
   "pygments_lexer": "ipython3",
   "version": "3.12.3"
  }
 },
 "nbformat": 4,
 "nbformat_minor": 5
}
