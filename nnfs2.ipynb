{
 "cells": [
  {
   "cell_type": "code",
   "execution_count": 12,
   "id": "fbd48bbc",
   "metadata": {},
   "outputs": [
    {
     "data": {
      "text/plain": [
       "array([[0.33333334, 0.33333334, 0.33333334],\n",
       "       [0.33331734, 0.3333183 , 0.33336434],\n",
       "       [0.3332888 , 0.33329153, 0.33341965],\n",
       "       [0.33325943, 0.33326396, 0.33347666],\n",
       "       [0.33323312, 0.33323926, 0.33352762]], dtype=float32)"
      ]
     },
     "execution_count": 12,
     "metadata": {},
     "output_type": "execute_result"
    }
   ],
   "source": [
    "import numpy as np \n",
    "import nnfs\n",
    "from nnfs.datasets import spiral_data\n",
    "nnfs.init()\n",
    "\n",
    "\n",
    "\n",
    "class Layer_Dense:\n",
    "    def __init__(self,n_inputs,n_neurons):\n",
    "        self.weights = .10*np.random.randn(n_inputs,n_neurons)\n",
    "        self.bias = np.zeros((1,n_neurons))\n",
    "        \n",
    "    def forward(self,inputs):\n",
    "        self.output = np.dot(inputs,self.weights) + self.bias \n",
    "\n",
    "class Activation_ReLU:\n",
    "    def forward(self,inputs):\n",
    "        self.output=np.maximum(0,inputs)\n",
    "\n",
    "class Actication_Softmax:\n",
    "    def forward(self,inputs):\n",
    "        exp_values = np.exp(inputs-np.max(inputs,axis=1,keepdims=True))\n",
    "        probabilties = exp_values /np.sum(exp_values,axis=1,keepdims=True)\n",
    "        self.output=probabilties\n",
    "     \n",
    "X,y=spiral_data(samples=100,classes=3)\n",
    "\n",
    "dense1 = Layer_Dense(2,3)\n",
    "activation1 = Activation_ReLU()\n",
    "dense2=Layer_Dense(3,3)\n",
    "activation2 = Actication_Softmax()\n",
    "\n",
    "\n",
    "dense1.forward(X)\n",
    "activation1.forward(dense1.output)\n",
    "dense2.forward(activation1.output)\n",
    "activation2.forward(dense2.output)\n",
    "\n",
    "activation2.output[:5]"
   ]
  },
  {
   "cell_type": "code",
   "execution_count": 14,
   "id": "c6f39fe5",
   "metadata": {},
   "outputs": [],
   "source": [
    "import math\n",
    "softmax_op = [0.7,0.1,0.2]\n",
    "\n",
    "target_op = [1,0,0]\n",
    "\n",
    "loss = -(math.log(softmax_op[0])*target_op[0]+\n",
    "         math.log(softmax_op[1])*target_op[1]+\n",
    "         math.log(softmax_op[2])*target_op[2])"
   ]
  },
  {
   "cell_type": "code",
   "execution_count": 15,
   "id": "190e1234",
   "metadata": {},
   "outputs": [
    {
     "data": {
      "text/plain": [
       "0.35667494393873245"
      ]
     },
     "execution_count": 15,
     "metadata": {},
     "output_type": "execute_result"
    }
   ],
   "source": [
    "loss"
   ]
  },
  {
   "cell_type": "code",
   "execution_count": 1,
   "id": "e50270b7",
   "metadata": {},
   "outputs": [],
   "source": [
    "import numpy as np"
   ]
  },
  {
   "cell_type": "code",
   "execution_count": 2,
   "id": "81b8993a",
   "metadata": {},
   "outputs": [],
   "source": [
    "softmax_op = np.array([[0.7,0.1,0.2],\n",
    "                       [0.1,0.5,0.4],\n",
    "                       [0.02,0.9,0.08]])"
   ]
  },
  {
   "cell_type": "code",
   "execution_count": 3,
   "id": "d76e1b5e",
   "metadata": {},
   "outputs": [],
   "source": [
    "class_targets = [0,1,1]\n"
   ]
  },
  {
   "cell_type": "code",
   "execution_count": 5,
   "id": "1cf0ff50",
   "metadata": {},
   "outputs": [
    {
     "name": "stdout",
     "output_type": "stream",
     "text": [
      "[0.7 0.5 0.9]\n"
     ]
    }
   ],
   "source": [
    "print(softmax_op[[0,1,2],class_targets])"
   ]
  },
  {
   "cell_type": "code",
   "execution_count": null,
   "id": "6493640a",
   "metadata": {},
   "outputs": [],
   "source": []
  }
 ],
 "metadata": {
  "kernelspec": {
   "display_name": ".venv",
   "language": "python",
   "name": "python3"
  },
  "language_info": {
   "codemirror_mode": {
    "name": "ipython",
    "version": 3
   },
   "file_extension": ".py",
   "mimetype": "text/x-python",
   "name": "python",
   "nbconvert_exporter": "python",
   "pygments_lexer": "ipython3",
   "version": "3.12.3"
  }
 },
 "nbformat": 4,
 "nbformat_minor": 5
}
