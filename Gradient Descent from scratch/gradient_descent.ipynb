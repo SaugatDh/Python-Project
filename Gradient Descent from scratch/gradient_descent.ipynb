{
 "cells": [
  {
   "metadata": {
    "ExecuteTime": {
     "end_time": "2025-09-09T04:01:58.952080Z",
     "start_time": "2025-09-09T04:01:58.859982Z"
    }
   },
   "cell_type": "code",
   "source": "import numpy as np",
   "id": "f0c31ac54a17037a",
   "outputs": [],
   "execution_count": 3
  },
  {
   "metadata": {
    "ExecuteTime": {
     "end_time": "2025-09-09T04:01:59.833701Z",
     "start_time": "2025-09-09T04:01:59.829729Z"
    }
   },
   "cell_type": "code",
   "source": [
    "class GDRegressor:\n",
    "    def __init__(self,lr,epochs):\n",
    "        self.lr=lr\n",
    "        self.epochs=epochs\n",
    "        self.m=100\n",
    "        self.b=-120\n",
    "\n",
    "    def fit(self,X,y):\n",
    "        for i in range(self.epochs):\n",
    "            loss_gradient_b = -2*np.sum(y-self.m*X-self.b)\n",
    "            loss_gradient_m=-2*np.sum(X*(y-self.m*X-self.b))\n",
    "\n",
    "            self.b=self.b-(self.lr*loss_gradient_b)\n",
    "            self.m=self.m-(self.lr*loss_gradient_m)\n",
    "\n",
    "        print(f\"Final intercept: {self.m}, Final slope: {self.b}\")\n",
    "    def predict(self,X):\n",
    "        return self.m*X+self.b"
   ],
   "id": "81db7bfc6f3e001f",
   "outputs": [],
   "execution_count": 4
  },
  {
   "metadata": {
    "ExecuteTime": {
     "end_time": "2025-09-09T04:02:01.522631Z",
     "start_time": "2025-09-09T04:02:01.514099Z"
    }
   },
   "cell_type": "code",
   "source": [
    "# Example Usage\n",
    "# Assume X and y are pandas Series or numpy arrays\n",
    "# Let's create some dummy data for demonstration\n",
    "X = np.array([1, 2, 3, 4, 5])\n",
    "y = np.array([2, 4, 5, 4, 6])\n",
    "\n",
    "# Create an instance of our regressor\n",
    "# Let's try a learning rate of 0.01 and 1000 epochs\n",
    "gdr = GDRegressor(lr=0.01, epochs=100)\n",
    "\n",
    "# Train the model\n",
    "gdr.fit(X, y)\n",
    "\n",
    "# Make a prediction\n",
    "# What would be the y for a new X value of 6?\n",
    "new_X = 6\n",
    "prediction = gdr.predict(new_X)\n",
    "print(f\"Prediction for X=6: {prediction}\")"
   ],
   "id": "ba016291ee3bbdc",
   "outputs": [
    {
     "name": "stdout",
     "output_type": "stream",
     "text": [
      "Final intercept: 7.780736491151591, Final slope: -23.40267370875135\n",
      "Prediction for X=6: 23.281745238158194\n"
     ]
    }
   ],
   "execution_count": 5
  },
  {
   "metadata": {},
   "cell_type": "code",
   "outputs": [],
   "execution_count": null,
   "source": "",
   "id": "b986297e333d0d9d"
  },
  {
   "metadata": {},
   "cell_type": "code",
   "outputs": [],
   "execution_count": null,
   "source": "",
   "id": "515b36f5d691caca"
  },
  {
   "metadata": {},
   "cell_type": "code",
   "outputs": [],
   "execution_count": null,
   "source": "",
   "id": "5174882faa370234"
  },
  {
   "metadata": {},
   "cell_type": "code",
   "outputs": [],
   "execution_count": null,
   "source": "",
   "id": "b82a4f8e9b65e3f4"
  },
  {
   "metadata": {},
   "cell_type": "code",
   "outputs": [],
   "execution_count": null,
   "source": "",
   "id": "aac33f0ed4fe4c87"
  },
  {
   "metadata": {},
   "cell_type": "code",
   "outputs": [],
   "execution_count": null,
   "source": "",
   "id": "c72137a84631fab8"
  }
 ],
 "metadata": {
  "kernelspec": {
   "display_name": "Python 3",
   "language": "python",
   "name": "python3"
  },
  "language_info": {
   "codemirror_mode": {
    "name": "ipython",
    "version": 2
   },
   "file_extension": ".py",
   "mimetype": "text/x-python",
   "name": "python",
   "nbconvert_exporter": "python",
   "pygments_lexer": "ipython2",
   "version": "2.7.6"
  }
 },
 "nbformat": 4,
 "nbformat_minor": 5
}
