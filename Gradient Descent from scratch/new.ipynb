{
 "cells": [
  {
   "cell_type": "code",
   "execution_count": 27,
   "id": "9a54751a",
   "metadata": {},
   "outputs": [],
   "source": [
    "import numpy as np\n",
    "\n",
    "def gradient_descent_runner(points,initial_b,initial_m,learning_rate,num_iterations):\n",
    "    b = initial_b\n",
    "    m = initial_m\n",
    "    for i in range(num_iterations):\n",
    "        b,m=step_gradient(b,m,array(points),learning_rate)\n",
    "    return [b,m]\n",
    "\n",
    "\n",
    "\n"
   ]
  },
  {
   "cell_type": "code",
   "execution_count": 28,
   "id": "e88a891f",
   "metadata": {},
   "outputs": [],
   "source": [
    "def compute_error_for_line_given_points(b,m,points):\n",
    "    totalError = 0\n",
    "    for i in range(0,len(points)):\n",
    "        x=points[i,0]\n",
    "        y=points[i,1]\n",
    "        totalError += (y-(m*x+b)) **2\n",
    "        return totalError/float(len(points))\n",
    "    \n",
    "    \n"
   ]
  },
  {
   "cell_type": "code",
   "execution_count": 29,
   "id": "508a4a6e",
   "metadata": {},
   "outputs": [],
   "source": [
    "def step_gradient(b_current,m_current,points,learningRate):\n",
    "    b_gradient = 0 \n",
    "    m_gradient = 0\n",
    "    N=float(len(points))\n",
    "    for i in range(0,len(points)):\n",
    "        x=points[i,0]\n",
    "        y=points[i,1]\n",
    "        b_gradient += -(2/N) *(y-((m_current*x)+b_current))\n",
    "        m_gradient += -(2/N)*x*(y-((m_current*x)+b_current))\n",
    "    new_b =b_current-(learningRate*b_gradient)\n",
    "    new_m =m_current-(learningRate*m_gradient)\n",
    "    return [new_b,new_m]"
   ]
  },
  {
   "cell_type": "code",
   "execution_count": 30,
   "id": "b0c990e2",
   "metadata": {},
   "outputs": [],
   "source": [
    "def run():\n",
    "    points = np.genfromtxt(\"data.csv\", delimiter=\",\")\n",
    "    learning_rate = 0.0001\n",
    "    initial_b = 0  # initial y-intercept guess\n",
    "    initial_m = 0  # initial slope guess\n",
    "    num_iterations = 1000\n",
    "\n",
    "    print(\"Starting gradient descent at b = {0}, m = {1}, error = {2}\".format(\n",
    "        initial_b, initial_m, compute_error_for_line_given_points(initial_b, initial_m, points)))\n",
    "    print(\"Running...\")\n",
    "\n",
    "    [b, m] = gradient_descent_runner(points, initial_b, initial_m, learning_rate, num_iterations)\n",
    "\n",
    "    print(\"After {0} iterations b = {1}, m = {2}, error = {3}\".format(\n",
    "        num_iterations, b, m, compute_error_for_line_given_points(b, m, points)))"
   ]
  },
  {
   "cell_type": "code",
   "execution_count": 31,
   "id": "47e9d50b",
   "metadata": {},
   "outputs": [
    {
     "name": "stdout",
     "output_type": "stream",
     "text": [
      "Starting gradient descent at b = 0, m = 0, error = 10.053342197544191\n",
      "Running...\n",
      "After 1000 iterations b = 0.08893651993741346, m = 1.4777440851894448, error = 2.693563420287152\n"
     ]
    }
   ],
   "source": [
    "if __name__ == '__main__':\n",
    "    run()"
   ]
  }
 ],
 "metadata": {
  "kernelspec": {
   "display_name": ".venv",
   "language": "python",
   "name": "python3"
  },
  "language_info": {
   "codemirror_mode": {
    "name": "ipython",
    "version": 3
   },
   "file_extension": ".py",
   "mimetype": "text/x-python",
   "name": "python",
   "nbconvert_exporter": "python",
   "pygments_lexer": "ipython3",
   "version": "3.13.7"
  }
 },
 "nbformat": 4,
 "nbformat_minor": 5
}
